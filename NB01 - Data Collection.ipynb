{
 "cells": [
  {
   "cell_type": "markdown",
   "metadata": {},
   "source": [
    "<font style='font-size:1.5em'>**✏️ W06 Formative - Data Collection** </font>\n",
    "\n",
    "<font style='font-size:0.75em'>DS105W – Data for Data Science</font>\n",
    "\n",
    "**Author:**  <YOUR-CANDIDATE-NUMBER>\n",
    "\n",
    "**Objectives:**\n",
    "\n",
    "- To collect data from allocated web pages\n",
    "- To put the data into a structured tabular format\n",
    "- To save the data into a CSV file\n"
   ]
  },
  {
   "cell_type": "markdown",
   "metadata": {},
   "source": [
    "::: callout-important\n",
    "\n",
    "## DO NOT IDENTIFY YOURSELF IN YOUR NOTEBOOKS\n",
    "\n",
    "Don't include any personally identifiable information in this notebook. This includes your name, e-mail, computer username, or any other personal information.\n",
    "\n",
    "**Pay close attention to paths.**\n",
    "\n",
    "Using a path containing your username counts as identifying yourself. For example, don't use a path like this:\n",
    "\n",
    "```console\n",
    "/Users/yourusername/.../data/...\n",
    "``` \n",
    "or \n",
    "\n",
    "```console\n",
    "C:\\Users\\yourusername\\...\\data\\...\n",
    "``` \n",
    "\n",
    "Instead, use relative paths. For example:\n",
    "\n",
    "```console\n",
    "./../data/...\n",
    "```\n",
    "\n",
    ":::\n"
   ]
  },
  {
   "cell_type": "markdown",
   "metadata": {},
   "source": [
    "# ⚙️ SETUP\n",
    "\n",
    "Import libraries."
   ]
  },
  {
   "cell_type": "code",
   "execution_count": 15,
   "metadata": {},
   "outputs": [],
   "source": [
    "import numpy as np\n",
    "import pandas as pd\n",
    "\n",
    "import requests\n",
    "\n",
    "from scrapy import Selector\n",
    "\n",
    "# Add other imports here if needed"
   ]
  },
  {
   "cell_type": "markdown",
   "metadata": {},
   "source": [
    "Set up the assignment for you:"
   ]
  },
  {
   "cell_type": "code",
   "execution_count": 2,
   "metadata": {},
   "outputs": [],
   "source": [
    "CANDIDATE_NUMBER = 31811"
   ]
  },
  {
   "cell_type": "markdown",
   "metadata": {},
   "source": [
    "**Discover your unique assignment**\n",
    "\n",
    "DO NOT MODIFY THE FOLLOWING CODE. Just run it to discover the web page allocated exclusively to you for data collection.\n"
   ]
  },
  {
   "cell_type": "code",
   "execution_count": 3,
   "metadata": {},
   "outputs": [
    {
     "name": "stdout",
     "output_type": "stream",
     "text": [
      "Your designated department is: Marshall Institute\n",
      "URL: http://www.lse.ac.uk/Marshall-Institute\n"
     ]
    }
   ],
   "source": [
    "import sys\n",
    "sys.path.append('../')\n",
    "\n",
    "from lse import print_designated_lse_department\n",
    "\n",
    "print_designated_lse_department(CANDIDATE_NUMBER)"
   ]
  },
  {
   "cell_type": "markdown",
   "metadata": {},
   "source": [
    "# Task 1 - Collecting Menus"
   ]
  },
  {
   "cell_type": "code",
   "execution_count": 91,
   "metadata": {},
   "outputs": [],
   "source": [
    "from urllib.parse import urljoin"
   ]
  },
  {
   "cell_type": "code",
   "execution_count": 72,
   "metadata": {},
   "outputs": [
    {
     "name": "stderr",
     "output_type": "stream",
     "text": [
      "2024-02-21 16:27:53 [urllib3.connectionpool] DEBUG: Starting new HTTPS connection (1): www.lse.ac.uk:443\n",
      "2024-02-21 16:27:53 [urllib3.connectionpool] DEBUG: https://www.lse.ac.uk:443 \"GET /Marshall-Institute HTTP/1.1\" 200 35525\n"
     ]
    }
   ],
   "source": [
    "import requests\n",
    "from scrapy import Selector\n",
    "\n",
    "my_url = \"https://www.lse.ac.uk/Marshall-Institute\"\n",
    "response = requests.get(my_url)\n",
    "sel = Selector(text=response.text)\n",
    "base_url =  'https://www.lse.ac.uk'\n"
   ]
  },
  {
   "cell_type": "code",
   "execution_count": 85,
   "metadata": {},
   "outputs": [],
   "source": [
    "all_links_text = sel.css('ul li::text').getall()\n",
    "menu_items_text = all_links_text[1:]\n"
   ]
  },
  {
   "cell_type": "code",
   "execution_count": 92,
   "metadata": {},
   "outputs": [],
   "source": [
    "all_relative_paths = sel.css('ul li a::attr(href)').getall()\n",
    "menu_items_links = []\n",
    "for path in all_relative_paths:\n",
    "    full_link = urljoin(base_url,path)\n",
    "    menu_items_links.append(full_link)\n",
    "combined_list = list(zip(menu_items_text, menu_items_links))"
   ]
  },
  {
   "cell_type": "code",
   "execution_count": 93,
   "metadata": {},
   "outputs": [
    {
     "name": "stdout",
     "output_type": "stream",
     "text": [
      "{}\n"
     ]
    }
   ],
   "source": [
    "menu = {}\n",
    "\n",
    "for item in combined_list:\n",
    "    key, value = item\n",
    "    menu[key] = value\n",
    "print(menu)"
   ]
  },
  {
   "cell_type": "code",
   "execution_count": 95,
   "metadata": {},
   "outputs": [],
   "source": [
    "file_path = '../data/menu.json'\n",
    "\n",
    "with open(file_path, 'w') as json_file:\n",
    "    json.dump(menu, json_file, indent=4)"
   ]
  },
  {
   "cell_type": "markdown",
   "metadata": {},
   "source": [
    "# Task 2 - Scraping the Schedule"
   ]
  },
  {
   "cell_type": "code",
   "execution_count": 100,
   "metadata": {},
   "outputs": [
    {
     "data": {
      "text/plain": [
       "dict"
      ]
     },
     "execution_count": 100,
     "metadata": {},
     "output_type": "execute_result"
    }
   ],
   "source": [
    "with open('../data/menu.json', 'r') as json_file:\n",
    " \n",
    " data = json.load(json_file)\n",
    "type(data)"
   ]
  },
  {
   "cell_type": "code",
   "execution_count": 107,
   "metadata": {},
   "outputs": [],
   "source": [
    "urls = ['https://www.lse.ac.uk/marshall-institute/about-us'\n",
    "              'https://www.lse.ac.uk/marshall-institute/learning'\n",
    "              'https://www.lse.ac.uk/marshall-institute/research'\n",
    "              'https://www.lse.ac.uk/marshall-institute/events'\n",
    "              'https://www.lse.ac.uk/marshall-institute/people'\n",
    "              'https://www.lse.ac.uk/marshall-institute/news'\n",
    "                ]\n",
    "def scrape_content_box(event_container):\n",
    "    event_title = event_container.css('span::text').extract_first()\n",
    "    text = event_container.css('h2::text').extract_first()\n",
    "    event_img = event_container.css('img').attrib.get('src','')\n",
    "    event_alt = event_container.css('img').attrib.get('alt','')"
   ]
  },
  {
   "cell_type": "code",
   "execution_count": 109,
   "metadata": {},
   "outputs": [
    {
     "name": "stderr",
     "output_type": "stream",
     "text": [
      "2024-02-22 17:25:07 [urllib3.connectionpool] DEBUG: Starting new HTTPS connection (1): www.lse.ac.uk:443\n"
     ]
    },
    {
     "name": "stderr",
     "output_type": "stream",
     "text": [
      "2024-02-22 17:25:07 [urllib3.connectionpool] DEBUG: https://www.lse.ac.uk:443 \"GET /marshall-institute/about-ushttps://www.lse.ac.uk/marshall-institute/learninghttps://www.lse.ac.uk/marshall-institute/researchhttps://www.lse.ac.uk/marshall-institute/eventshttps://www.lse.ac.uk/marshall-institute/peoplehttps://www.lse.ac.uk/marshall-institute/news HTTP/1.1\" 400 1230\n"
     ]
    }
   ],
   "source": [
    "data_list = []\n",
    "\n",
    "for url in urls:\n",
    "    response = requests.get(url)\n",
    "    sel = Selector(text=response.text)\n",
    "    page_title = sel.css('title::text').extract_first()\n",
    "    containers = sel.css('div.component')\n",
    "    for container in containers:\n",
    "        data = scrape_content_box(container)\n",
    "        data_list.append(data)\n",
    "\n",
    "        "
   ]
  },
  {
   "cell_type": "markdown",
   "metadata": {},
   "source": [
    "# Task 3 - Downloading Images"
   ]
  },
  {
   "cell_type": "code",
   "execution_count": 112,
   "metadata": {},
   "outputs": [
    {
     "ename": "IndentationError",
     "evalue": "expected an indented block after 'with' statement on line 1 (217468719.py, line 2)",
     "output_type": "error",
     "traceback": [
      "\u001b[0;36m  Cell \u001b[0;32mIn[112], line 2\u001b[0;36m\u001b[0m\n\u001b[0;31m    df_boxes = pd.read_csv('../data/df_boxes.csv')\u001b[0m\n\u001b[0m    ^\u001b[0m\n\u001b[0;31mIndentationError\u001b[0m\u001b[0;31m:\u001b[0m expected an indented block after 'with' statement on line 1\n"
     ]
    }
   ],
   "source": [
    "with open('../data/menu.json', 'r') as json_file:\n",
    "df_boxes = pd.read_csv('../data/df_boxes.csv')\n",
    "print(df.boxes)\n"
   ]
  },
  {
   "cell_type": "markdown",
   "metadata": {},
   "source": [
    "-----------------\n",
    "\n",
    "# Generative AI acknowledgment.\n",
    "\n",
    "In compliance with the DS105W 🤖 [Generative AI Policy](https://lse-dsi.github.io/DS105/2023/winter-term/generative-ai.html), I declare that...\n",
    "\n"
   ]
  }
 ],
 "metadata": {
  "kernelspec": {
   "display_name": "ds105-w10",
   "language": "python",
   "name": "python3"
  },
  "language_info": {
   "codemirror_mode": {
    "name": "ipython",
    "version": 3
   },
   "file_extension": ".py",
   "mimetype": "text/x-python",
   "name": "python",
   "nbconvert_exporter": "python",
   "pygments_lexer": "ipython3",
   "version": "3.11.5"
  }
 },
 "nbformat": 4,
 "nbformat_minor": 2
}
