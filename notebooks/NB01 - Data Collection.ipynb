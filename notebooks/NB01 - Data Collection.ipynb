{
 "cells": [
  {
   "cell_type": "markdown",
   "metadata": {},
   "source": [
    "<font style='font-size:1.5em'>**✏️ W06 Formative - Data Collection** </font>\n",
    "\n",
    "<font style='font-size:0.75em'>DS105W – Data for Data Science</font>\n",
    "\n",
    "**Author:**  <YOUR-CANDIDATE-NUMBER>\n",
    "\n",
    "**Objectives:**\n",
    "\n",
    "- To collect data from allocated web pages\n",
    "- To put the data into a structured tabular format\n",
    "- To save the data into a CSV file\n"
   ]
  },
  {
   "cell_type": "markdown",
   "metadata": {},
   "source": [
    "::: callout-important\n",
    "\n",
    "## DO NOT IDENTIFY YOURSELF IN YOUR NOTEBOOKS\n",
    "\n",
    "Don't include any personally identifiable information in this notebook. This includes your name, e-mail, computer username, or any other personal information.\n",
    "\n",
    "**Pay close attention to paths.**\n",
    "\n",
    "Using a path containing your username counts as identifying yourself. For example, don't use a path like this:\n",
    "\n",
    "```console\n",
    "/Users/yourusername/.../data/...\n",
    "``` \n",
    "or \n",
    "\n",
    "```console\n",
    "C:\\Users\\yourusername\\...\\data\\...\n",
    "``` \n",
    "\n",
    "Instead, use relative paths. For example:\n",
    "\n",
    "```console\n",
    "./../data/...\n",
    "```\n",
    "\n",
    ":::\n"
   ]
  },
  {
   "cell_type": "markdown",
   "metadata": {},
   "source": [
    "# ⚙️ SETUP\n",
    "\n",
    "Import libraries."
   ]
  },
  {
   "cell_type": "code",
   "execution_count": null,
   "metadata": {},
   "outputs": [],
   "source": [
    "import numpy as np\n",
    "import pandas as pd\n",
    "\n",
    "import requests\n",
    "\n",
    "from scrapy import Selector\n",
    "\n",
    "# Add other imports here if needed"
   ]
  },
  {
   "cell_type": "markdown",
   "metadata": {},
   "source": [
    "Set up the assignment for you:"
   ]
  },
  {
   "cell_type": "code",
   "execution_count": null,
   "metadata": {},
   "outputs": [],
   "source": [
    "CANDIDATE_NUMBER = <your candidate number>"
   ]
  },
  {
   "cell_type": "markdown",
   "metadata": {},
   "source": [
    "**Discover your unique assignment**\n",
    "\n",
    "DO NOT MODIFY THE FOLLOWING CODE. Just run it to discover the web page allocated exclusively to you for data collection.\n"
   ]
  },
  {
   "cell_type": "code",
   "execution_count": null,
   "metadata": {},
   "outputs": [],
   "source": [
    "import sys\n",
    "sys.path.append('../')\n",
    "\n",
    "from lse import print_designated_lse_department\n",
    "\n",
    "print_designated_lse_department(CANDIDATE_NUMBER)"
   ]
  },
  {
   "cell_type": "markdown",
   "metadata": {},
   "source": [
    "-----------------\n",
    "\n",
    "# Generative AI acknowledgment.\n",
    "\n",
    "In compliance with the DS105W 🤖 [Generative AI Policy](https://lse-dsi.github.io/DS105/2023/winter-term/generative-ai.html), I declare that...\n",
    "\n"
   ]
  }
 ],
 "metadata": {
  "kernelspec": {
   "display_name": "ds105-w10",
   "language": "python",
   "name": "python3"
  },
  "language_info": {
   "codemirror_mode": {
    "name": "ipython",
    "version": 3
   },
   "file_extension": ".py",
   "mimetype": "text/x-python",
   "name": "python",
   "nbconvert_exporter": "python",
   "pygments_lexer": "ipython3",
   "version": "3.10.13"
  }
 },
 "nbformat": 4,
 "nbformat_minor": 2
}
